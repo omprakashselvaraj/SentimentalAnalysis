{
 "cells": [
  {
   "cell_type": "markdown",
   "id": "050287c9",
   "metadata": {},
   "source": [
    "##### Importing Libraries Used"
   ]
  },
  {
   "cell_type": "code",
   "execution_count": 34,
   "id": "29c78f96",
   "metadata": {},
   "outputs": [],
   "source": [
    "import pandas as pd\n",
    "import matplotlib.pyplot as plt\n",
    "import string"
   ]
  },
  {
   "cell_type": "markdown",
   "id": "a6b4baea",
   "metadata": {},
   "source": [
    "##### Reading the Dataset"
   ]
  },
  {
   "cell_type": "code",
   "execution_count": 35,
   "id": "01ad9b57",
   "metadata": {},
   "outputs": [
    {
     "data": {
      "text/html": [
       "<div>\n",
       "<style scoped>\n",
       "    .dataframe tbody tr th:only-of-type {\n",
       "        vertical-align: middle;\n",
       "    }\n",
       "\n",
       "    .dataframe tbody tr th {\n",
       "        vertical-align: top;\n",
       "    }\n",
       "\n",
       "    .dataframe thead th {\n",
       "        text-align: right;\n",
       "    }\n",
       "</style>\n",
       "<table border=\"1\" class=\"dataframe\">\n",
       "  <thead>\n",
       "    <tr style=\"text-align: right;\">\n",
       "      <th></th>\n",
       "      <th>text</th>\n",
       "      <th>label</th>\n",
       "    </tr>\n",
       "  </thead>\n",
       "  <tbody>\n",
       "    <tr>\n",
       "      <th>0</th>\n",
       "      <td>Just got back from seeing @GaryDelaney in Burs...</td>\n",
       "      <td>joy</td>\n",
       "    </tr>\n",
       "    <tr>\n",
       "      <th>1</th>\n",
       "      <td>Oh dear an evening of absolute hilarity I don'...</td>\n",
       "      <td>joy</td>\n",
       "    </tr>\n",
       "    <tr>\n",
       "      <th>2</th>\n",
       "      <td>Been waiting all week for this game ❤️❤️❤️ #ch...</td>\n",
       "      <td>joy</td>\n",
       "    </tr>\n",
       "    <tr>\n",
       "      <th>3</th>\n",
       "      <td>@gardiner_love : Thank you so much, Gloria! Yo...</td>\n",
       "      <td>joy</td>\n",
       "    </tr>\n",
       "    <tr>\n",
       "      <th>4</th>\n",
       "      <td>I feel so blessed to work with the family that...</td>\n",
       "      <td>joy</td>\n",
       "    </tr>\n",
       "    <tr>\n",
       "      <th>5</th>\n",
       "      <td>Today I reached 1000 subscribers on YT!! , #go...</td>\n",
       "      <td>joy</td>\n",
       "    </tr>\n",
       "    <tr>\n",
       "      <th>6</th>\n",
       "      <td>@Singaholic121 Good morning, love! Happy first...</td>\n",
       "      <td>joy</td>\n",
       "    </tr>\n",
       "    <tr>\n",
       "      <th>7</th>\n",
       "      <td>#BridgetJonesBaby is the best thing I've seen ...</td>\n",
       "      <td>joy</td>\n",
       "    </tr>\n",
       "    <tr>\n",
       "      <th>8</th>\n",
       "      <td>Just got back from seeing @GaryDelaney in Burs...</td>\n",
       "      <td>joy</td>\n",
       "    </tr>\n",
       "    <tr>\n",
       "      <th>9</th>\n",
       "      <td>@IndyMN I thought the holidays could not get a...</td>\n",
       "      <td>joy</td>\n",
       "    </tr>\n",
       "  </tbody>\n",
       "</table>\n",
       "</div>"
      ],
      "text/plain": [
       "                                                text label\n",
       "0  Just got back from seeing @GaryDelaney in Burs...   joy\n",
       "1  Oh dear an evening of absolute hilarity I don'...   joy\n",
       "2  Been waiting all week for this game ❤️❤️❤️ #ch...   joy\n",
       "3  @gardiner_love : Thank you so much, Gloria! Yo...   joy\n",
       "4  I feel so blessed to work with the family that...   joy\n",
       "5  Today I reached 1000 subscribers on YT!! , #go...   joy\n",
       "6  @Singaholic121 Good morning, love! Happy first...   joy\n",
       "7  #BridgetJonesBaby is the best thing I've seen ...   joy\n",
       "8  Just got back from seeing @GaryDelaney in Burs...   joy\n",
       "9  @IndyMN I thought the holidays could not get a...   joy"
      ]
     },
     "execution_count": 35,
     "metadata": {},
     "output_type": "execute_result"
    }
   ],
   "source": [
    "data=pd.read_csv('train dataset.csv')\n",
    "data.head(10)"
   ]
  },
  {
   "cell_type": "markdown",
   "id": "90e31caa",
   "metadata": {},
   "source": [
    "##### Data Properties"
   ]
  },
  {
   "cell_type": "code",
   "execution_count": 36,
   "id": "da57c511",
   "metadata": {},
   "outputs": [
    {
     "name": "stdout",
     "output_type": "stream",
     "text": [
      "text     object\n",
      "label    object\n",
      "dtype: object\n"
     ]
    }
   ],
   "source": [
    "print(data.dtypes)"
   ]
  },
  {
   "cell_type": "code",
   "execution_count": 37,
   "id": "989f4db9",
   "metadata": {},
   "outputs": [
    {
     "name": "stdout",
     "output_type": "stream",
     "text": [
      "(3613, 2)\n"
     ]
    }
   ],
   "source": [
    "print(data.shape)"
   ]
  },
  {
   "cell_type": "markdown",
   "id": "986c1461",
   "metadata": {},
   "source": [
    "##### Checking for Null Values in dataset"
   ]
  },
  {
   "cell_type": "code",
   "execution_count": 38,
   "id": "3607a2c7",
   "metadata": {},
   "outputs": [
    {
     "name": "stdout",
     "output_type": "stream",
     "text": [
      "text     0\n",
      "label    0\n",
      "dtype: int64\n"
     ]
    }
   ],
   "source": [
    "print(data.isnull().sum())"
   ]
  },
  {
   "cell_type": "code",
   "execution_count": 39,
   "id": "e19c5a2b",
   "metadata": {},
   "outputs": [
    {
     "name": "stdout",
     "output_type": "stream",
     "text": [
      "text     0\n",
      "label    0\n",
      "dtype: int64\n"
     ]
    }
   ],
   "source": [
    "print(data.isna().sum())"
   ]
  },
  {
   "cell_type": "markdown",
   "id": "015c3a27",
   "metadata": {},
   "source": [
    "##### Unique value in target"
   ]
  },
  {
   "cell_type": "code",
   "execution_count": 40,
   "id": "a6ddaecd",
   "metadata": {},
   "outputs": [
    {
     "name": "stdout",
     "output_type": "stream",
     "text": [
      "4\n"
     ]
    }
   ],
   "source": [
    "print(data['label'].nunique())"
   ]
  },
  {
   "cell_type": "code",
   "execution_count": 41,
   "id": "c5b36941",
   "metadata": {},
   "outputs": [
    {
     "name": "stdout",
     "output_type": "stream",
     "text": [
      "['joy' 'fear' 'anger' 'sadness']\n"
     ]
    }
   ],
   "source": [
    "print(data['label'].unique())"
   ]
  },
  {
   "cell_type": "markdown",
   "id": "01a6e243",
   "metadata": {},
   "source": [
    "##### Creating hashmap to store each label and its frequency"
   ]
  },
  {
   "cell_type": "code",
   "execution_count": 42,
   "id": "57bdfa8d",
   "metadata": {},
   "outputs": [],
   "source": [
    "dic={'joy':0,'fear':0,'anger':0,'sadness':0}\n",
    "for i in data['label']:\n",
    "    dic[i]=dic[i]+1"
   ]
  },
  {
   "cell_type": "code",
   "execution_count": 43,
   "id": "5da72017",
   "metadata": {},
   "outputs": [
    {
     "name": "stdout",
     "output_type": "stream",
     "text": [
      "{'joy': 823, 'fear': 1147, 'anger': 857, 'sadness': 786}\n"
     ]
    }
   ],
   "source": [
    "print(dic)"
   ]
  },
  {
   "cell_type": "code",
   "execution_count": 44,
   "id": "9cd9fdf5",
   "metadata": {},
   "outputs": [
    {
     "name": "stdout",
     "output_type": "stream",
     "text": [
      "joy 22.78\n",
      "fear 31.75\n",
      "anger 23.72\n",
      "sadness 21.75\n"
     ]
    }
   ],
   "source": [
    "n=len(data)\n",
    "for i in data['label'].unique():\n",
    "    print(i, round((dic[i]/n)*100,2))"
   ]
  },
  {
   "cell_type": "code",
   "execution_count": 45,
   "id": "ee600e9c",
   "metadata": {},
   "outputs": [
    {
     "data": {
      "image/png": "[encoded data removed]",
      "text/plain": [
       "<Figure size 432x288 with 1 Axes>"
      ]
     },
     "metadata": {
      "needs_background": "light"
     },
     "output_type": "display_data"
    }
   ],
   "source": [
    "x=list(dic.keys())\n",
    "y=list(dic.values())\n",
    "plt.bar(range(len(dic)),y,tick_label=x,color='violet')\n",
    "plt.title('Target Label Vs Frequency')\n",
    "plt.xlabel('Target Label')\n",
    "plt.ylabel('Frequency')\n",
    "plt.show()"
   ]
  },
  {
   "cell_type": "markdown",
   "id": "8991eefe",
   "metadata": {},
   "source": [
    "##### This shows that the dataset is balanced dataset"
   ]
  },
  {
   "cell_type": "markdown",
   "id": "d65061fd",
   "metadata": {},
   "source": [
    "##### Data Pre-Processing and Exploratory Data Analysis"
   ]
  },
  {
   "cell_type": "markdown",
   "id": "8cf8031c",
   "metadata": {},
   "source": [
    "##### Converting text into lowercase"
   ]
  },
  {
   "cell_type": "code",
   "execution_count": 46,
   "id": "040c3256",
   "metadata": {},
   "outputs": [],
   "source": [
    "def convert_lowercase(sent):\n",
    "    sent=sent.lower()\n",
    "    return sent"
   ]
  },
  {
   "cell_type": "code",
   "execution_count": 47,
   "id": "f4960332",
   "metadata": {},
   "outputs": [],
   "source": [
    "data['text']=data['text'].apply(convert_lowercase)"
   ]
  },
  {
   "cell_type": "markdown",
   "id": "e4c8093e",
   "metadata": {},
   "source": [
    "##### Removing punctuations in text column"
   ]
  },
  {
   "cell_type": "code",
   "execution_count": 48,
   "id": "a7648a70",
   "metadata": {},
   "outputs": [],
   "source": [
    "def remove_punctuation(sen):\n",
    "    for punctuations in string.punctuation:\n",
    "        sen=sen.replace(punctuations,'')\n",
    "    return sen"
   ]
  },
  {
   "cell_type": "code",
   "execution_count": 49,
   "id": "bd8dcbb7",
   "metadata": {},
   "outputs": [],
   "source": [
    "data['text']=data['text'].apply(remove_punctuation)"
   ]
  },
  {
   "cell_type": "code",
   "execution_count": null,
   "id": "ac21243c",
   "metadata": {},
   "outputs": [],
   "source": []
  }
 ],
 "metadata": {
  "kernelspec": {
   "display_name": "Python 3",
   "language": "python",
   "name": "python3"
  },
  "language_info": {
   "codemirror_mode": {
    "name": "ipython",
    "version": 3
   },
   "file_extension": ".py",
   "mimetype": "text/x-python",
   "name": "python",
   "nbconvert_exporter": "python",
   "pygments_lexer": "ipython3",
   "version": "3.8.8"
  }
 },
 "nbformat": 4,
 "nbformat_minor": 5
}
